{
 "cells": [
  {
   "cell_type": "code",
   "execution_count": 1,
   "id": "06dc9abc-fc71-481d-99ab-14203754c29a",
   "metadata": {},
   "outputs": [],
   "source": [
    "import numpy as np\n",
    "\n",
    "import sys, os\n",
    "sys.path.append(os.path.join(\"..\", \"spooler_files\"))\n",
    "\n",
    "from spooler_fermions import generate_gate_schema, check_with_schema"
   ]
  },
  {
   "cell_type": "code",
   "execution_count": 2,
   "id": "660379b4-8c6d-4ab9-b949-76eca3d46923",
   "metadata": {},
   "outputs": [],
   "source": [
    "NUM_WIRES = 8"
   ]
  },
  {
   "cell_type": "code",
   "execution_count": 3,
   "id": "22b66e8c-903d-466c-a1eb-b10caccaff1e",
   "metadata": {},
   "outputs": [],
   "source": [
    "barrier_schema = {\n",
    "    \"type\": \"array\",\n",
    "    \"minItems\": 3,\n",
    "    \"maxItems\": 3,\n",
    "    \"items\": [\n",
    "        {\"type\": \"string\", \"enum\": [\"barrier\"]},\n",
    "        {\n",
    "            \"type\": \"array\",\n",
    "            \"maxItems\": NUM_WIRES,\n",
    "            \"items\": [{\"type\": \"number\", \"minimum\": 0, \"maximum\": NUM_WIRES - 1}],\n",
    "        },\n",
    "        {\"type\": \"array\", \"maxItems\": 0},\n",
    "    ],\n",
    "}"
   ]
  },
  {
   "cell_type": "code",
   "execution_count": 4,
   "id": "6f6f8b82-5100-4582-a9fd-2cdfe693fa6b",
   "metadata": {},
   "outputs": [],
   "source": [
    "load_measure_schema = {\n",
    "    \"type\": \"array\",\n",
    "    \"minItems\": 3,\n",
    "    \"maxItems\": 3,\n",
    "    \"items\": [\n",
    "        {\"type\": \"string\", \"enum\": [\"load\", \"measure\"]},\n",
    "        {\n",
    "            \"type\": \"array\",\n",
    "            \"maxItems\": 2,\n",
    "            \"items\": [{\"type\": \"number\", \"minimum\": 0, \"maximum\": NUM_WIRES - 1}],\n",
    "        },\n",
    "        {\"type\": \"array\", \"maxItems\": 0},\n",
    "    ],\n",
    "}"
   ]
  },
  {
   "cell_type": "code",
   "execution_count": 5,
   "id": "08cab0d1-7b37-41a0-ba9f-546ce8298719",
   "metadata": {},
   "outputs": [],
   "source": [
    "hop_schema = {\n",
    "    \"type\": \"array\",\n",
    "    \"minItems\": 3,\n",
    "    \"maxItems\": 3,\n",
    "    \"items\": [\n",
    "        {\"type\": \"string\", \"enum\": [\"fhop\"]},\n",
    "        {\n",
    "            \"type\": \"array\",\n",
    "            \"maxItems\": 4,\n",
    "            \"items\": [{\"type\": \"number\", \"minimum\": 0, \"maximum\": 7}],\n",
    "        },\n",
    "        {\n",
    "            \"type\": \"array\",\n",
    "            \"items\": [{\"type\": \"number\", \"minimum\": 0, \"maximum\": 6.284}],\n",
    "        },\n",
    "    ],\n",
    "}"
   ]
  },
  {
   "cell_type": "code",
   "execution_count": 6,
   "id": "40b0b06c-e03a-4b4f-91ec-c368eece5d99",
   "metadata": {},
   "outputs": [],
   "source": [
    "int_schema = {\n",
    "    \"type\": \"array\",\n",
    "    \"minItems\": 3,\n",
    "    \"maxItems\": 3,\n",
    "    \"items\": [\n",
    "        {\"type\": \"string\", \"enum\": [\"fint\", \"fphase\"]},\n",
    "        {\n",
    "            \"type\": \"array\",\n",
    "            \"maxItems\": 8,\n",
    "            \"items\": [{\"type\": \"number\", \"minimum\": 0, \"maximum\": 7}],\n",
    "        },\n",
    "        {\n",
    "            \"type\": \"array\",\n",
    "            \"items\": [{\"type\": \"number\", \"minimum\": 0, \"maximum\": 6.284}],\n",
    "        },\n",
    "    ],\n",
    "}"
   ]
  },
  {
   "cell_type": "code",
   "execution_count": 7,
   "id": "a22fa8ee-6e6d-41e2-846f-c1f9d4b198ee",
   "metadata": {},
   "outputs": [
    {
     "ename": "AssertionError",
     "evalue": "",
     "output_type": "error",
     "traceback": [
      "\u001b[1;31m---------------------------------------------------------------------------\u001b[0m",
      "\u001b[1;31mAssertionError\u001b[0m                            Traceback (most recent call last)",
      "\u001b[1;32mC:\\Users\\ROHIT_~1\\AppData\\Local\\Temp/ipykernel_7164/2840933227.py\u001b[0m in \u001b[0;36m<module>\u001b[1;34m\u001b[0m\n\u001b[1;32m----> 1\u001b[1;33m assert barrier_schema==generate_gate_schema(gate_name=\"barrier\", min_wire_num=0, \n\u001b[0m\u001b[0;32m      2\u001b[0m                                             max_wire_num=NUM_WIRES, min_par_val=None, max_par_val=None)\n",
      "\u001b[1;31mAssertionError\u001b[0m: "
     ]
    }
   ],
   "source": [
    "assert barrier_schema==generate_gate_schema(gate_name=\"barrier\", min_wire_num=0, \n",
    "                                            max_wire_num=NUM_WIRES, min_par_val=None, max_par_val=None)"
   ]
  },
  {
   "cell_type": "code",
   "execution_count": null,
   "id": "fa59918d-8dfb-487d-9fee-4dee219f9a96",
   "metadata": {},
   "outputs": [
    {
     "data": {
      "text/plain": [
       "{'type': 'array',\n",
       " 'minItems': 3,\n",
       " 'maxItems': 3,\n",
       " 'items': [{'type': 'string', 'enum': ['fint']},\n",
       "  {'type': 'array',\n",
       "   'minItems': 0,\n",
       "   'maxItems': 8,\n",
       "   'items': [{'type': 'number', 'minimum': 0, 'maximum': 7}]},\n",
       "  {'type': 'array', 'maxItems': 0}]}"
      ]
     },
     "execution_count": 8,
     "metadata": {},
     "output_type": "execute_result"
    }
   ],
   "source": [
    "generate_gate_schema(gate_name=\"fint\", min_wire_num=0, \n",
    "                                            max_wire_num=NUM_WIRES)#, min_par_val=None, max_par_val=None)"
   ]
  },
  {
   "cell_type": "code",
   "execution_count": null,
   "id": "b46c74c6-6031-4cf7-8a19-cb40912ad78b",
   "metadata": {},
   "outputs": [],
   "source": []
  }
 ],
 "metadata": {
  "kernelspec": {
   "display_name": "Python 3 (ipykernel)",
   "language": "python",
   "name": "python3"
  },
  "language_info": {
   "codemirror_mode": {
    "name": "ipython",
    "version": 3
   },
   "file_extension": ".py",
   "mimetype": "text/x-python",
   "name": "python",
   "nbconvert_exporter": "python",
   "pygments_lexer": "ipython3",
   "version": "3.9.7"
  }
 },
 "nbformat": 4,
 "nbformat_minor": 5
}
