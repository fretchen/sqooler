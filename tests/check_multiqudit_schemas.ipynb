{
 "cells": [
  {
   "cell_type": "code",
   "execution_count": 1,
   "id": "06dc9abc-fc71-481d-99ab-14203754c29a",
   "metadata": {},
   "outputs": [],
   "source": [
    "import numpy as np\n",
    "\n",
    "import sys, os\n",
    "sys.path.append(os.path.join(\"..\", \"spooler_files\"))\n",
    "\n",
    "from spooler_multiqudit import generate_gate_schema, check_with_schema"
   ]
  },
  {
   "cell_type": "code",
   "execution_count": 2,
   "id": "660379b4-8c6d-4ab9-b949-76eca3d46923",
   "metadata": {},
   "outputs": [],
   "source": [
    "MAX_NUM_WIRES = 16"
   ]
  },
  {
   "cell_type": "code",
   "execution_count": 3,
   "id": "57158e25-ac50-423c-8a2b-3d482c2bea14",
   "metadata": {},
   "outputs": [],
   "source": [
    "rlx_schema = {\n",
    "    \"type\": \"array\",\n",
    "    \"minItems\": 3,\n",
    "    \"maxItems\": 3,\n",
    "    \"items\": [\n",
    "        {\"type\": \"string\", \"enum\": [\"rlx\"]},\n",
    "        {\n",
    "            \"type\": \"array\",\n",
    "            \"maxItems\": 1,\n",
    "            \"items\": [{\"type\": \"number\", \"minimum\": 0, \"maximum\": MAX_NUM_WIRES - 1}],\n",
    "        },\n",
    "        {\n",
    "            \"type\": \"array\",\n",
    "            \"items\": [{\"type\": \"number\", \"minimum\": 0, \"maximum\": 6.284}],\n",
    "        },\n",
    "    ],\n",
    "}"
   ]
  },
  {
   "cell_type": "code",
   "execution_count": 4,
   "id": "f0f09c98-9501-4073-b4da-d15cb518766a",
   "metadata": {},
   "outputs": [],
   "source": [
    "rlz_schema = {\n",
    "    \"type\": \"array\",\n",
    "    \"minItems\": 3,\n",
    "    \"maxItems\": 3,\n",
    "    \"items\": [\n",
    "        {\"type\": \"string\", \"enum\": [\"rlz\"]},\n",
    "        {\n",
    "            \"type\": \"array\",\n",
    "            \"maxItems\": 1,\n",
    "            \"items\": [{\"type\": \"number\", \"minimum\": 0, \"maximum\": MAX_NUM_WIRES - 1}],\n",
    "        },\n",
    "        {\n",
    "            \"type\": \"array\",\n",
    "            \"items\": [{\"type\": \"number\", \"minimum\": 0, \"maximum\": 6.284}],\n",
    "        },\n",
    "    ],\n",
    "}"
   ]
  },
  {
   "cell_type": "code",
   "execution_count": 5,
   "id": "624ca5de-6903-4ab9-9a91-2f711e8d9f1f",
   "metadata": {},
   "outputs": [],
   "source": [
    "rlz2_schema = {\n",
    "    \"type\": \"array\",\n",
    "    \"minItems\": 3,\n",
    "    \"maxItems\": 3,\n",
    "    \"items\": [\n",
    "        {\"type\": \"string\", \"enum\": [\"rlz2\"]},\n",
    "        {\n",
    "            \"type\": \"array\",\n",
    "            \"maxItems\": 1,\n",
    "            \"items\": [{\"type\": \"number\", \"minimum\": 0, \"maximum\": MAX_NUM_WIRES - 1}],\n",
    "        },\n",
    "        {\n",
    "            \"type\": \"array\",\n",
    "            \"items\": [{\"type\": \"number\", \"minimum\": 0, \"maximum\": 10 * 6.284}],\n",
    "        },\n",
    "    ],\n",
    "}"
   ]
  },
  {
   "cell_type": "code",
   "execution_count": 6,
   "id": "aea37c4f-43ba-43ee-82df-99b110afae0f",
   "metadata": {},
   "outputs": [],
   "source": [
    "lxly_schema = {\n",
    "    \"type\": \"array\",\n",
    "    \"minItems\": 3,\n",
    "    \"maxItems\": 3,\n",
    "    \"items\": [\n",
    "        {\"type\": \"string\", \"enum\": [\"rlxly\"]},\n",
    "        {\n",
    "            \"type\": \"array\",\n",
    "            \"maxItems\": MAX_NUM_WIRES,\n",
    "            \"items\": [{\"type\": \"number\", \"minimum\": 0, \"maximum\": MAX_NUM_WIRES - 1}],\n",
    "        },\n",
    "        {\n",
    "            \"type\": \"array\",\n",
    "            \"maxItems\": 1,\n",
    "            \"items\": [{\"type\": \"number\", \"minimum\": 0, \"maximum\": 10 * 6.284}],\n",
    "        },\n",
    "    ],\n",
    "}"
   ]
  },
  {
   "cell_type": "code",
   "execution_count": 7,
   "id": "277d6ffe-7d3f-458b-b3e7-4a34546db2cd",
   "metadata": {},
   "outputs": [],
   "source": [
    "lzlz_schema = {\n",
    "    \"type\": \"array\",\n",
    "    \"minItems\": 3,\n",
    "    \"maxItems\": 3,\n",
    "    \"items\": [\n",
    "        {\"type\": \"string\", \"enum\": [\"rlzlz\"]},\n",
    "        {\n",
    "            \"type\": \"array\",\n",
    "            \"maxItems\": MAX_NUM_WIRES,\n",
    "            \"items\": [{\"type\": \"number\", \"minimum\": 0, \"maximum\": MAX_NUM_WIRES - 1}],\n",
    "        },\n",
    "        {\n",
    "            \"type\": \"array\",\n",
    "            \"maxItems\": 1,\n",
    "            \"items\": [{\"type\": \"number\", \"minimum\": 0, \"maximum\": 10 * 6.284}],\n",
    "        },\n",
    "    ],\n",
    "}"
   ]
  },
  {
   "cell_type": "code",
   "execution_count": 8,
   "id": "13596ad9-c463-46b2-a722-77c4e0da4622",
   "metadata": {},
   "outputs": [],
   "source": [
    "load_schema = {\n",
    "    \"type\": \"array\",\n",
    "    \"minItems\": 3,\n",
    "    \"maxItems\": 3,\n",
    "    \"items\": [\n",
    "        {\"type\": \"string\", \"enum\": [\"load\"]},\n",
    "        {\n",
    "            \"type\": \"array\",\n",
    "            \"maxItems\": 1,\n",
    "            \"items\": [{\"type\": \"number\", \"minimum\": 0, \"maximum\": MAX_NUM_WIRES - 1}],\n",
    "        },\n",
    "        {\n",
    "            \"type\": \"array\",\n",
    "            # set the upper limit for the number of atoms that can be loaded\n",
    "            # into the single qudit\n",
    "            \"items\": [{\"type\": \"number\", \"minimum\": 0, \"maximum\": 500}],\n",
    "        },\n",
    "    ],\n",
    "}"
   ]
  },
  {
   "cell_type": "code",
   "execution_count": 9,
   "id": "2733d5a1-b1eb-46e9-a442-8e7b8acbe4a3",
   "metadata": {},
   "outputs": [],
   "source": [
    "measure_schema = {\n",
    "    \"type\": \"array\",\n",
    "    \"minItems\": 3,\n",
    "    \"maxItems\": 3,\n",
    "    \"items\": [\n",
    "        {\"type\": \"string\", \"enum\": [\"measure\"]},\n",
    "        {\n",
    "            \"type\": \"array\",\n",
    "            \"maxItems\": 1,\n",
    "            \"items\": [{\"type\": \"number\", \"minimum\": 0, \"maximum\": MAX_NUM_WIRES - 1}],\n",
    "        },\n",
    "        {\"type\": \"array\", \"maxItems\": 0},\n",
    "    ],\n",
    "}"
   ]
  },
  {
   "cell_type": "code",
   "execution_count": 10,
   "id": "b6717a97-4902-4db5-a773-88e48f6ebe03",
   "metadata": {},
   "outputs": [],
   "source": [
    "barrier_schema = {\n",
    "    \"type\": \"array\",\n",
    "    \"minItems\": 3,\n",
    "    \"maxItems\": 3,\n",
    "    \"items\": [\n",
    "        {\"type\": \"string\", \"enum\": [\"barrier\"]},\n",
    "        {\n",
    "            \"type\": \"array\",\n",
    "            \"maxItems\": MAX_NUM_WIRES,\n",
    "            \"items\": [{\"type\": \"number\", \"minimum\": 0, \"maximum\": MAX_NUM_WIRES - 1}],\n",
    "        },\n",
    "        {\"type\": \"array\", \"maxItems\": 0},\n",
    "    ],\n",
    "}"
   ]
  },
  {
   "cell_type": "code",
   "execution_count": 13,
   "id": "a22fa8ee-6e6d-41e2-846f-c1f9d4b198ee",
   "metadata": {},
   "outputs": [
    {
     "ename": "AssertionError",
     "evalue": "",
     "output_type": "error",
     "traceback": [
      "\u001b[1;31m---------------------------------------------------------------------------\u001b[0m",
      "\u001b[1;31mAssertionError\u001b[0m                            Traceback (most recent call last)",
      "\u001b[1;32mC:\\Users\\ROHIT_~1\\AppData\\Local\\Temp/ipykernel_6688/1172913714.py\u001b[0m in \u001b[0;36m<module>\u001b[1;34m\u001b[0m\n\u001b[1;32m----> 1\u001b[1;33m assert barrier_schema==generate_gate_schema(gate_name=\"barrier\", min_wire_num=0, \n\u001b[0m\u001b[0;32m      2\u001b[0m                                             max_wire_num=MAX_NUM_WIRES, min_par_val=None, max_par_val=None)\n",
      "\u001b[1;31mAssertionError\u001b[0m: "
     ]
    }
   ],
   "source": [
    "assert barrier_schema==generate_gate_schema(gate_name=\"barrier\", min_wire_num=0, \n",
    "                                            max_wire_num=MAX_NUM_WIRES, min_par_val=None, max_par_val=None)"
   ]
  },
  {
   "cell_type": "code",
   "execution_count": null,
   "id": "b46c74c6-6031-4cf7-8a19-cb40912ad78b",
   "metadata": {},
   "outputs": [],
   "source": []
  }
 ],
 "metadata": {
  "kernelspec": {
   "display_name": "Python 3 (ipykernel)",
   "language": "python",
   "name": "python3"
  },
  "language_info": {
   "codemirror_mode": {
    "name": "ipython",
    "version": 3
   },
   "file_extension": ".py",
   "mimetype": "text/x-python",
   "name": "python",
   "nbconvert_exporter": "python",
   "pygments_lexer": "ipython3",
   "version": "3.9.7"
  }
 },
 "nbformat": 4,
 "nbformat_minor": 5
}
