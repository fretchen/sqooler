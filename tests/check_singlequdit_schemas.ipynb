{
 "cells": [
  {
   "cell_type": "code",
   "execution_count": 1,
   "id": "06dc9abc-fc71-481d-99ab-14203754c29a",
   "metadata": {},
   "outputs": [],
   "source": [
    "import numpy as np\n",
    "\n",
    "import sys, os\n",
    "sys.path.append(os.path.join(\"..\", \"spooler_files\"))\n",
    "\n",
    "from spooler_singlequdit import generate_gate_schema, check_with_schema"
   ]
  },
  {
   "cell_type": "code",
   "execution_count": 2,
   "id": "46535838-9cf8-4d84-8a40-29c6286529f0",
   "metadata": {},
   "outputs": [],
   "source": [
    "rLx_schema = {\n",
    "    \"type\": \"array\",\n",
    "    \"minItems\": 3,\n",
    "    \"maxItems\": 3,\n",
    "    \"items\": [\n",
    "        {\"type\": \"string\", \"enum\": [\"rlx\"]},\n",
    "        {\n",
    "            \"type\": \"array\",\n",
    "            \"maxItems\": 2,\n",
    "            \"items\": [{\"type\": \"number\", \"minimum\": 0, \"maximum\": 1}],\n",
    "        },\n",
    "        {\n",
    "            \"type\": \"array\",\n",
    "            \"items\": [{\"type\": \"number\", \"minimum\": 0, \"maximum\": 6.284}],\n",
    "        },\n",
    "    ],\n",
    "}"
   ]
  },
  {
   "cell_type": "code",
   "execution_count": 3,
   "id": "bb9b5a9b-2902-49b4-973b-31f09a71b518",
   "metadata": {},
   "outputs": [],
   "source": [
    "rLz_schema = {\n",
    "    \"type\": \"array\",\n",
    "    \"minItems\": 3,\n",
    "    \"maxItems\": 3,\n",
    "    \"items\": [\n",
    "        {\"type\": \"string\", \"enum\": [\"rlz\"]},\n",
    "        {\n",
    "            \"type\": \"array\",\n",
    "            \"maxItems\": 2,\n",
    "            \"items\": [{\"type\": \"number\", \"minimum\": 0, \"maximum\": 1}],\n",
    "        },\n",
    "        {\n",
    "            \"type\": \"array\",\n",
    "            \"items\": [{\"type\": \"number\", \"minimum\": 0, \"maximum\": 6.284}],\n",
    "        },\n",
    "    ],\n",
    "}"
   ]
  },
  {
   "cell_type": "code",
   "execution_count": 4,
   "id": "9dd93687-ec65-4d69-a13e-da72577e7253",
   "metadata": {},
   "outputs": [],
   "source": [
    "rLz2_schema = {\n",
    "    \"type\": \"array\",\n",
    "    \"minItems\": 3,\n",
    "    \"maxItems\": 3,\n",
    "    \"items\": [\n",
    "        {\"type\": \"string\", \"enum\": [\"rlz2\"]},\n",
    "        {\n",
    "            \"type\": \"array\",\n",
    "            \"maxItems\": 2,\n",
    "            \"items\": [{\"type\": \"number\", \"minimum\": 0, \"maximum\": 1}],\n",
    "        },\n",
    "        {\n",
    "            \"type\": \"array\",\n",
    "            \"items\": [{\"type\": \"number\", \"minimum\": 0, \"maximum\": 10 * 6.284}],\n",
    "        },\n",
    "    ],\n",
    "}"
   ]
  },
  {
   "cell_type": "code",
   "execution_count": 5,
   "id": "f5579966-d395-4177-8915-4bc37fc302dc",
   "metadata": {},
   "outputs": [],
   "source": [
    "load_schema = {\n",
    "    \"type\": \"array\",\n",
    "    \"minItems\": 3,\n",
    "    \"maxItems\": 3,\n",
    "    \"items\": [\n",
    "        {\"type\": \"string\", \"enum\": [\"load\"]},\n",
    "        {\n",
    "            \"type\": \"array\",\n",
    "            \"maxItems\": 2,\n",
    "            \"items\": [{\"type\": \"number\", \"minimum\": 0, \"maximum\": 0}],\n",
    "        },\n",
    "        {\n",
    "            \"type\": \"array\",\n",
    "            # set the upper limit for the number of atoms that can be loaded\n",
    "            # into the single qudit\n",
    "            \"items\": [{\"type\": \"number\", \"minimum\": 0, \"maximum\": 500}],\n",
    "        },\n",
    "    ],\n",
    "}"
   ]
  },
  {
   "cell_type": "code",
   "execution_count": 6,
   "id": "91b774e6-088d-4ea4-9086-1fc8f697c6af",
   "metadata": {},
   "outputs": [],
   "source": [
    "barrier_measure_schema = {\n",
    "    \"type\": \"array\",\n",
    "    \"minItems\": 3,\n",
    "    \"maxItems\": 3,\n",
    "    \"items\": [\n",
    "        {\"type\": \"string\", \"enum\": [\"measure\", \"barrier\"]},\n",
    "        {\n",
    "            \"type\": \"array\",\n",
    "            \"maxItems\": 2,\n",
    "            \"items\": [{\"type\": \"number\", \"minimum\": 0, \"maximum\": 1}],\n",
    "        },\n",
    "        {\"type\": \"array\", \"maxItems\": 0},\n",
    "    ],\n",
    "}"
   ]
  },
  {
   "cell_type": "code",
   "execution_count": 7,
   "id": "a22fa8ee-6e6d-41e2-846f-c1f9d4b198ee",
   "metadata": {},
   "outputs": [
    {
     "ename": "NameError",
     "evalue": "name 'barrier_schema' is not defined",
     "output_type": "error",
     "traceback": [
      "\u001b[1;31m---------------------------------------------------------------------------\u001b[0m",
      "\u001b[1;31mNameError\u001b[0m                                 Traceback (most recent call last)",
      "\u001b[1;32mC:\\Users\\ROHIT_~1\\AppData\\Local\\Temp/ipykernel_13284/1172913714.py\u001b[0m in \u001b[0;36m<module>\u001b[1;34m\u001b[0m\n\u001b[1;32m----> 1\u001b[1;33m assert barrier_schema==generate_gate_schema(gate_name=\"barrier\", min_wire_num=0, \n\u001b[0m\u001b[0;32m      2\u001b[0m                                             max_wire_num=MAX_NUM_WIRES, min_par_val=None, max_par_val=None)\n",
      "\u001b[1;31mNameError\u001b[0m: name 'barrier_schema' is not defined"
     ]
    }
   ],
   "source": [
    "assert barrier_schema==generate_gate_schema(gate_name=\"barrier\", min_wire_num=0, \n",
    "                                            max_wire_num=MAX_NUM_WIRES, min_par_val=None, max_par_val=None)"
   ]
  },
  {
   "cell_type": "code",
   "execution_count": null,
   "id": "b46c74c6-6031-4cf7-8a19-cb40912ad78b",
   "metadata": {},
   "outputs": [],
   "source": []
  }
 ],
 "metadata": {
  "kernelspec": {
   "display_name": "Python 3 (ipykernel)",
   "language": "python",
   "name": "python3"
  },
  "language_info": {
   "codemirror_mode": {
    "name": "ipython",
    "version": 3
   },
   "file_extension": ".py",
   "mimetype": "text/x-python",
   "name": "python",
   "nbconvert_exporter": "python",
   "pygments_lexer": "ipython3",
   "version": "3.9.7"
  }
 },
 "nbformat": 4,
 "nbformat_minor": 5
}
